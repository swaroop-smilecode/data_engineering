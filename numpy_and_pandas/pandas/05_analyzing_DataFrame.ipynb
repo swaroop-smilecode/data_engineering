{
  "metadata": {
    "kernelspec": {
      "name": "python",
      "display_name": "Python (Pyodide)",
      "language": "python"
    },
    "language_info": {
      "codemirror_mode": {
        "name": "python",
        "version": 3
      },
      "file_extension": ".py",
      "mimetype": "text/x-python",
      "name": "python",
      "nbconvert_exporter": "python",
      "pygments_lexer": "ipython3",
      "version": "3.8"
    }
  },
  "nbformat_minor": 4,
  "nbformat": 4,
  "cells": [
    {
      "cell_type": "code",
      "source": "import pandas as pd\n\nweather_df = pd.read_csv(\"./data/weather_2012.csv\")",
      "metadata": {
        "trusted": true
      },
      "outputs": [],
      "execution_count": 10
    },
    {
      "cell_type": "markdown",
      "source": "--------------------------------------------------------------------------------------------------------------------------------------------------------",
      "metadata": {}
    },
    {
      "cell_type": "markdown",
      "source": "##### weather_df.info()\nIt provides, complete information about the DataFrame.",
      "metadata": {}
    },
    {
      "cell_type": "code",
      "source": "weather_df.info()",
      "metadata": {
        "trusted": true
      },
      "outputs": [
        {
          "name": "stdout",
          "text": "<class 'pandas.core.frame.DataFrame'>\nRangeIndex: 8784 entries, 0 to 8783\nData columns (total 8 columns):\n #   Column              Non-Null Count  Dtype  \n---  ------              --------------  -----  \n 0   Date/Time           8784 non-null   object \n 1   Temp (C)            8784 non-null   float64\n 2   Dew Point Temp (C)  8784 non-null   float64\n 3   Rel Hum (%)         8784 non-null   int64  \n 4   Wind Spd (km/h)     8784 non-null   int64  \n 5   Visibility (km)     8784 non-null   float64\n 6   Stn Press (kPa)     8784 non-null   float64\n 7   Weather             8784 non-null   object \ndtypes: float64(4), int64(2), object(2)\nmemory usage: 480.4+ KB\n",
          "output_type": "stream"
        }
      ],
      "execution_count": 11
    },
    {
      "cell_type": "markdown",
      "source": "--------------------------------------------------------------------------------------------------------------------------------------------------------",
      "metadata": {}
    },
    {
      "cell_type": "markdown",
      "source": "##### weather_df.head()\nGives you first 5 rows of DataFrame",
      "metadata": {}
    },
    {
      "cell_type": "code",
      "source": "weather_df.head()",
      "metadata": {
        "trusted": true
      },
      "outputs": [
        {
          "execution_count": 12,
          "output_type": "execute_result",
          "data": {
            "text/plain": "             Date/Time  Temp (C)  Dew Point Temp (C)  Rel Hum (%)  \\\n0  2012-01-01 00:00:00      -1.8                -3.9           86   \n1  2012-01-01 01:00:00      -1.8                -3.7           87   \n2  2012-01-01 02:00:00      -1.8                -3.4           89   \n3  2012-01-01 03:00:00      -1.5                -3.2           88   \n4  2012-01-01 04:00:00      -1.5                -3.3           88   \n\n   Wind Spd (km/h)  Visibility (km)  Stn Press (kPa)               Weather  \n0                4              8.0           101.24                   Fog  \n1                4              8.0           101.24                   Fog  \n2                7              4.0           101.26  Freezing Drizzle,Fog  \n3                6              4.0           101.27  Freezing Drizzle,Fog  \n4                7              4.8           101.23                   Fog  ",
            "text/html": "<div>\n<style scoped>\n    .dataframe tbody tr th:only-of-type {\n        vertical-align: middle;\n    }\n\n    .dataframe tbody tr th {\n        vertical-align: top;\n    }\n\n    .dataframe thead th {\n        text-align: right;\n    }\n</style>\n<table border=\"1\" class=\"dataframe\">\n  <thead>\n    <tr style=\"text-align: right;\">\n      <th></th>\n      <th>Date/Time</th>\n      <th>Temp (C)</th>\n      <th>Dew Point Temp (C)</th>\n      <th>Rel Hum (%)</th>\n      <th>Wind Spd (km/h)</th>\n      <th>Visibility (km)</th>\n      <th>Stn Press (kPa)</th>\n      <th>Weather</th>\n    </tr>\n  </thead>\n  <tbody>\n    <tr>\n      <th>0</th>\n      <td>2012-01-01 00:00:00</td>\n      <td>-1.8</td>\n      <td>-3.9</td>\n      <td>86</td>\n      <td>4</td>\n      <td>8.0</td>\n      <td>101.24</td>\n      <td>Fog</td>\n    </tr>\n    <tr>\n      <th>1</th>\n      <td>2012-01-01 01:00:00</td>\n      <td>-1.8</td>\n      <td>-3.7</td>\n      <td>87</td>\n      <td>4</td>\n      <td>8.0</td>\n      <td>101.24</td>\n      <td>Fog</td>\n    </tr>\n    <tr>\n      <th>2</th>\n      <td>2012-01-01 02:00:00</td>\n      <td>-1.8</td>\n      <td>-3.4</td>\n      <td>89</td>\n      <td>7</td>\n      <td>4.0</td>\n      <td>101.26</td>\n      <td>Freezing Drizzle,Fog</td>\n    </tr>\n    <tr>\n      <th>3</th>\n      <td>2012-01-01 03:00:00</td>\n      <td>-1.5</td>\n      <td>-3.2</td>\n      <td>88</td>\n      <td>6</td>\n      <td>4.0</td>\n      <td>101.27</td>\n      <td>Freezing Drizzle,Fog</td>\n    </tr>\n    <tr>\n      <th>4</th>\n      <td>2012-01-01 04:00:00</td>\n      <td>-1.5</td>\n      <td>-3.3</td>\n      <td>88</td>\n      <td>7</td>\n      <td>4.8</td>\n      <td>101.23</td>\n      <td>Fog</td>\n    </tr>\n  </tbody>\n</table>\n</div>"
          },
          "metadata": {}
        }
      ],
      "execution_count": 12
    },
    {
      "cell_type": "markdown",
      "source": "--------------------------------------------------------------------------------------------------------------------------------------------------------",
      "metadata": {}
    },
    {
      "cell_type": "markdown",
      "source": "##### weather_df.tail()\nGives you last 5 rows of DataFrame",
      "metadata": {}
    },
    {
      "cell_type": "code",
      "source": "weather_df.tail()",
      "metadata": {
        "trusted": true
      },
      "outputs": [
        {
          "execution_count": 13,
          "output_type": "execute_result",
          "data": {
            "text/plain": "                Date/Time  Temp (C)  Dew Point Temp (C)  Rel Hum (%)  \\\n8779  2012-12-31 19:00:00       0.1                -2.7           81   \n8780  2012-12-31 20:00:00       0.2                -2.4           83   \n8781  2012-12-31 21:00:00      -0.5                -1.5           93   \n8782  2012-12-31 22:00:00      -0.2                -1.8           89   \n8783  2012-12-31 23:00:00       0.0                -2.1           86   \n\n      Wind Spd (km/h)  Visibility (km)  Stn Press (kPa) Weather  \n8779               30              9.7           100.13    Snow  \n8780               24              9.7           100.03    Snow  \n8781               28              4.8            99.95    Snow  \n8782               28              9.7            99.91    Snow  \n8783               30             11.3            99.89    Snow  ",
            "text/html": "<div>\n<style scoped>\n    .dataframe tbody tr th:only-of-type {\n        vertical-align: middle;\n    }\n\n    .dataframe tbody tr th {\n        vertical-align: top;\n    }\n\n    .dataframe thead th {\n        text-align: right;\n    }\n</style>\n<table border=\"1\" class=\"dataframe\">\n  <thead>\n    <tr style=\"text-align: right;\">\n      <th></th>\n      <th>Date/Time</th>\n      <th>Temp (C)</th>\n      <th>Dew Point Temp (C)</th>\n      <th>Rel Hum (%)</th>\n      <th>Wind Spd (km/h)</th>\n      <th>Visibility (km)</th>\n      <th>Stn Press (kPa)</th>\n      <th>Weather</th>\n    </tr>\n  </thead>\n  <tbody>\n    <tr>\n      <th>8779</th>\n      <td>2012-12-31 19:00:00</td>\n      <td>0.1</td>\n      <td>-2.7</td>\n      <td>81</td>\n      <td>30</td>\n      <td>9.7</td>\n      <td>100.13</td>\n      <td>Snow</td>\n    </tr>\n    <tr>\n      <th>8780</th>\n      <td>2012-12-31 20:00:00</td>\n      <td>0.2</td>\n      <td>-2.4</td>\n      <td>83</td>\n      <td>24</td>\n      <td>9.7</td>\n      <td>100.03</td>\n      <td>Snow</td>\n    </tr>\n    <tr>\n      <th>8781</th>\n      <td>2012-12-31 21:00:00</td>\n      <td>-0.5</td>\n      <td>-1.5</td>\n      <td>93</td>\n      <td>28</td>\n      <td>4.8</td>\n      <td>99.95</td>\n      <td>Snow</td>\n    </tr>\n    <tr>\n      <th>8782</th>\n      <td>2012-12-31 22:00:00</td>\n      <td>-0.2</td>\n      <td>-1.8</td>\n      <td>89</td>\n      <td>28</td>\n      <td>9.7</td>\n      <td>99.91</td>\n      <td>Snow</td>\n    </tr>\n    <tr>\n      <th>8783</th>\n      <td>2012-12-31 23:00:00</td>\n      <td>0.0</td>\n      <td>-2.1</td>\n      <td>86</td>\n      <td>30</td>\n      <td>11.3</td>\n      <td>99.89</td>\n      <td>Snow</td>\n    </tr>\n  </tbody>\n</table>\n</div>"
          },
          "metadata": {}
        }
      ],
      "execution_count": 13
    },
    {
      "cell_type": "markdown",
      "source": "##### weather_df.index",
      "metadata": {}
    },
    {
      "cell_type": "code",
      "source": "weather_df.index",
      "metadata": {
        "trusted": true
      },
      "outputs": [
        {
          "execution_count": 14,
          "output_type": "execute_result",
          "data": {
            "text/plain": "RangeIndex(start=0, stop=8784, step=1)"
          },
          "metadata": {}
        }
      ],
      "execution_count": 14
    },
    {
      "cell_type": "markdown",
      "source": "##### weather_df['Weather'].unique()",
      "metadata": {}
    },
    {
      "cell_type": "code",
      "source": "weather_df['Weather'].unique()",
      "metadata": {
        "trusted": true
      },
      "outputs": [
        {
          "execution_count": 15,
          "output_type": "execute_result",
          "data": {
            "text/plain": "array(['Fog', 'Freezing Drizzle,Fog', 'Mostly Cloudy', 'Cloudy', 'Rain',\n       'Rain Showers', 'Mainly Clear', 'Snow Showers', 'Snow', 'Clear',\n       'Freezing Rain,Fog', 'Freezing Rain', 'Freezing Drizzle',\n       'Rain,Snow', 'Moderate Snow', 'Freezing Drizzle,Snow',\n       'Freezing Rain,Snow Grains', 'Snow,Blowing Snow', 'Freezing Fog',\n       'Haze', 'Rain,Fog', 'Drizzle,Fog', 'Drizzle',\n       'Freezing Drizzle,Haze', 'Freezing Rain,Haze', 'Snow,Haze',\n       'Snow,Fog', 'Snow,Ice Pellets', 'Rain,Haze', 'Thunderstorms,Rain',\n       'Thunderstorms,Rain Showers', 'Thunderstorms,Heavy Rain Showers',\n       'Thunderstorms,Rain Showers,Fog', 'Thunderstorms',\n       'Thunderstorms,Rain,Fog',\n       'Thunderstorms,Moderate Rain Showers,Fog', 'Rain Showers,Fog',\n       'Rain Showers,Snow Showers', 'Snow Pellets', 'Rain,Snow,Fog',\n       'Moderate Rain,Fog', 'Freezing Rain,Ice Pellets,Fog',\n       'Drizzle,Ice Pellets,Fog', 'Drizzle,Snow', 'Rain,Ice Pellets',\n       'Drizzle,Snow,Fog', 'Rain,Snow Grains', 'Rain,Snow,Ice Pellets',\n       'Snow Showers,Fog', 'Moderate Snow,Blowing Snow'], dtype=object)"
          },
          "metadata": {}
        }
      ],
      "execution_count": 15
    },
    {
      "cell_type": "markdown",
      "source": "##### weather_df['Weather'].nunique()",
      "metadata": {}
    },
    {
      "cell_type": "code",
      "source": "weather_df['Weather'].nunique()",
      "metadata": {
        "trusted": true
      },
      "outputs": [
        {
          "execution_count": 16,
          "output_type": "execute_result",
          "data": {
            "text/plain": "50"
          },
          "metadata": {}
        }
      ],
      "execution_count": 16
    },
    {
      "cell_type": "markdown",
      "source": "##### weather_df['Weather'].value_counts()",
      "metadata": {}
    },
    {
      "cell_type": "code",
      "source": "weather_df['Weather'].value_counts()",
      "metadata": {
        "trusted": true
      },
      "outputs": [
        {
          "execution_count": 17,
          "output_type": "execute_result",
          "data": {
            "text/plain": "Weather\nMainly Clear                               2106\nMostly Cloudy                              2069\nCloudy                                     1728\nClear                                      1326\nSnow                                        390\nRain                                        306\nRain Showers                                188\nFog                                         150\nRain,Fog                                    116\nDrizzle,Fog                                  80\nSnow Showers                                 60\nDrizzle                                      41\nSnow,Fog                                     37\nSnow,Blowing Snow                            19\nRain,Snow                                    18\nThunderstorms,Rain Showers                   16\nHaze                                         16\nDrizzle,Snow,Fog                             15\nFreezing Rain                                14\nFreezing Drizzle,Snow                        11\nFreezing Drizzle                              7\nSnow,Ice Pellets                              6\nFreezing Drizzle,Fog                          6\nSnow,Haze                                     5\nFreezing Fog                                  4\nSnow Showers,Fog                              4\nModerate Snow                                 4\nRain,Snow,Ice Pellets                         4\nFreezing Rain,Fog                             4\nFreezing Drizzle,Haze                         3\nRain,Haze                                     3\nThunderstorms,Rain                            3\nThunderstorms,Rain Showers,Fog                3\nFreezing Rain,Haze                            2\nDrizzle,Snow                                  2\nRain Showers,Snow Showers                     2\nThunderstorms                                 2\nModerate Snow,Blowing Snow                    2\nRain Showers,Fog                              1\nThunderstorms,Moderate Rain Showers,Fog       1\nSnow Pellets                                  1\nRain,Snow,Fog                                 1\nModerate Rain,Fog                             1\nFreezing Rain,Ice Pellets,Fog                 1\nDrizzle,Ice Pellets,Fog                       1\nThunderstorms,Rain,Fog                        1\nRain,Ice Pellets                              1\nRain,Snow Grains                              1\nThunderstorms,Heavy Rain Showers              1\nFreezing Rain,Snow Grains                     1\nName: count, dtype: int64"
          },
          "metadata": {}
        }
      ],
      "execution_count": 17
    },
    {
      "cell_type": "markdown",
      "source": "##### Note\nWhen you say `weather_df['Weather'].value_counts()`, you are asking to provide details of only one column.<br>\nSo, what we get back is `Series` data type.<br>\nWe know how to fetch particular element from Series. That is using using the index.",
      "metadata": {}
    },
    {
      "cell_type": "code",
      "source": "weather_df['Weather'].value_counts()[0]",
      "metadata": {
        "trusted": true
      },
      "outputs": [
        {
          "name": "stderr",
          "text": "<ipython-input-18-7dc1c1a10a12>:1: FutureWarning: Series.__getitem__ treating keys as positions is deprecated. In a future version, integer keys will always be treated as labels (consistent with DataFrame behavior). To access a value by position, use `ser.iloc[pos]`\n  weather_df['Weather'].value_counts()[0]\n",
          "output_type": "stream"
        },
        {
          "execution_count": 18,
          "output_type": "execute_result",
          "data": {
            "text/plain": "2106"
          },
          "metadata": {}
        }
      ],
      "execution_count": 18
    },
    {
      "cell_type": "code",
      "source": "",
      "metadata": {
        "trusted": true
      },
      "outputs": [],
      "execution_count": null
    }
  ]
}