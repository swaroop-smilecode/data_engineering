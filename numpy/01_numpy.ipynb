{
 "cells": [
  {
   "cell_type": "code",
   "execution_count": null,
   "metadata": {
    "vscode": {
     "languageId": "plaintext"
    }
   },
   "outputs": [],
   "source": [
    "#### What is numpy?\n",
    "numpy, which stands for Numerical Python, is a library consisting of multidimensional array objects.\n",
    "We can install numpy by `pip install numpy`"
   ]
  }
 ],
 "metadata": {
  "language_info": {
   "name": "python"
  }
 },
 "nbformat": 4,
 "nbformat_minor": 2
}
