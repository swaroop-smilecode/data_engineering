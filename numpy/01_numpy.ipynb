{
 "cells": [
  {
   "cell_type": "markdown",
   "metadata": {},
   "source": [
    "#### What is numpy?\n",
    "numpy, which stands for Numerical Python, is a library consisting of multidimensional array objects.\n",
    "We can install numpy by `pip install numpy`"
   ]
  },
  {
   "cell_type": "markdown",
   "metadata": {},
   "source": [
    "#### How to create arrays in Python?\n",
    "Look at the below code. Here we are converting python list object into numpy array object whose name is `np`."
   ]
  },
  {
   "cell_type": "code",
   "execution_count": null,
   "metadata": {
    "vscode": {
     "languageId": "plaintext"
    }
   },
   "outputs": [],
   "source": [
    "import numpy as np\n",
    "\n",
    "my_list = [10, 20, 30] # From list: 1d array\n",
    "ndarry = np.array(my_list)"
   ]
  },
  {
   "cell_type": "markdown",
   "metadata": {},
   "source": [
    "#### How to represent 1-d, 2-d & 3d arrays in python\n",
    "Observe that 2-d array is nothing but matrix.\n",
    "![image](https://github.com/user-attachments/assets/265af33e-51d1-4131-b673-26814f50a6d3)"
   ]
  }
 ],
 "metadata": {
  "language_info": {
   "name": "python"
  }
 },
 "nbformat": 4,
 "nbformat_minor": 2
}
