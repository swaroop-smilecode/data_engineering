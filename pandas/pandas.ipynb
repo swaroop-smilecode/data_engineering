{
  "metadata": {
    "kernelspec": {
      "name": "python",
      "display_name": "Python (Pyodide)",
      "language": "python"
    },
    "language_info": {
      "codemirror_mode": {
        "name": "python",
        "version": 3
      },
      "file_extension": ".py",
      "mimetype": "text/x-python",
      "name": "python",
      "nbconvert_exporter": "python",
      "pygments_lexer": "ipython3",
      "version": "3.8"
    }
  },
  "nbformat_minor": 4,
  "nbformat": 4,
  "cells": [
    {
      "cell_type": "markdown",
      "source": "#### <ins>Pandas</ins>\n![image](https://github.com/user-attachments/assets/a526d014-b50a-4584-a646-1a9a218107c9)",
      "metadata": {}
    },
    {
      "cell_type": "markdown",
      "source": "#### <ins>Data structures in pandas</ins>\nIn data engineering, will be mostly using DataFrame / Series, but not Panel & Panel4D.\n##### 1. Series\nOne dimentional \n##### 2. DataFrame\nTwo dimentional\n##### 3. Panel\nThree dimentional\n##### 4. Panel4D\nFour dimentional",
      "metadata": {}
    },
    {
      "cell_type": "markdown",
      "source": "#### <ins>Series</ins>\n- Very similar to a numpy array.\n- What differentiates the NumPy array from a Series, is that a Series can have index labels,</br>\n  meaning it can also be indexed by a label, instead of just a number location.",
      "metadata": {}
    },
    {
      "cell_type": "code",
      "source": "import pandas as pd\n\nmy_list = [10, 20, 30]\npd.Series(my_list)",
      "metadata": {
        "trusted": true
      },
      "outputs": [
        {
          "execution_count": 24,
          "output_type": "execute_result",
          "data": {
            "text/plain": "0    10\n1    20\n2    30\ndtype: int64"
          },
          "metadata": {}
        }
      ],
      "execution_count": 24
    },
    {
      "cell_type": "code",
      "source": "import pandas as pd\n\nmy_list = [10, 20, 30]\npd.Series(my_list)",
      "metadata": {
        "trusted": true
      },
      "outputs": [
        {
          "execution_count": 25,
          "output_type": "execute_result",
          "data": {
            "text/plain": "0    10\n1    20\n2    30\ndtype: int64"
          },
          "metadata": {}
        }
      ],
      "execution_count": 25
    },
    {
      "cell_type": "code",
      "source": "import pandas as pd\n\nmy_list = [10, 20, 30]\npd.Series(my_list)",
      "metadata": {
        "trusted": true
      },
      "outputs": [
        {
          "execution_count": 26,
          "output_type": "execute_result",
          "data": {
            "text/plain": "0    10\n1    20\n2    30\ndtype: int64"
          },
          "metadata": {}
        }
      ],
      "execution_count": 26
    }
  ]
}