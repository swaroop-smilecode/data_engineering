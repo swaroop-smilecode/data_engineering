{
  "metadata": {
    "kernelspec": {
      "name": "python",
      "display_name": "Python (Pyodide)",
      "language": "python"
    },
    "language_info": {
      "codemirror_mode": {
        "name": "python",
        "version": 3
      },
      "file_extension": ".py",
      "mimetype": "text/x-python",
      "name": "python",
      "nbconvert_exporter": "python",
      "pygments_lexer": "ipython3",
      "version": "3.8"
    }
  },
  "nbformat_minor": 4,
  "nbformat": 4,
  "cells": [
    {
      "cell_type": "markdown",
      "source": "#### Pandas\n![image](https://github.com/user-attachments/assets/a526d014-b50a-4584-a646-1a9a218107c9)",
      "metadata": {}
    },
    {
      "cell_type": "markdown",
      "source": "#### Data structures in pandas\nIn data engineering, will be mostly using DataFrame / Series, but not Panel & Panel4D.\n1. Series</br>\n   One dimentional \n3. DataFrame</br>\n   Two dimentional\n5. Panel</br>\n   Three dimentional\n7. Panel4D</br>\n   Four dimentional",
      "metadata": {}
    },
    {
      "cell_type": "markdown",
      "source": "#### Series\n- Very similar to a numpy array.\n- What differentiates the NumPy array from a Series, is that a Series can have index labels,</br>\n  meaning it can also be indexed by a label, instead of just a number location.",
      "metadata": {}
    },
    {
      "cell_type": "code",
      "source": "import pandas as pd\n\nmy_list = [10, 20, 30]\nseries = pd.Series(my_list)\n\nseries # 0    10\n       # 1    20\n       # 2    30\n       # dtype: int64",
      "metadata": {
        "trusted": true
      },
      "outputs": [],
      "execution_count": null
    },
    {
      "cell_type": "code",
      "source": "import pandas as pd\n\nmy_list = [10, 20, 30]\nseries = pd.Series(my_list)\n\nseries.index  # RangeIndex(start=0, stop=3, step=1)",
      "metadata": {
        "trusted": true
      },
      "outputs": [],
      "execution_count": null
    },
    {
      "cell_type": "code",
      "source": "import pandas as pd\n\nmy_list = [10, 20, 30]\nseries = pd.Series(my_list)\n\nseries.values # [10 20 30]",
      "metadata": {
        "trusted": true
      },
      "outputs": [],
      "execution_count": null
    }
  ]
}