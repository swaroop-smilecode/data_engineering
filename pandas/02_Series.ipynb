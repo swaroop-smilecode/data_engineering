{
  "metadata": {
    "kernelspec": {
      "name": "python",
      "display_name": "Python (Pyodide)",
      "language": "python"
    },
    "language_info": {
      "codemirror_mode": {
        "name": "python",
        "version": 3
      },
      "file_extension": ".py",
      "mimetype": "text/x-python",
      "name": "python",
      "nbconvert_exporter": "python",
      "pygments_lexer": "ipython3",
      "version": "3.8"
    }
  },
  "nbformat_minor": 4,
  "nbformat": 4,
  "cells": [
    {
      "cell_type": "markdown",
      "source": "#### <ins>Series</ins>\n- Very similar to a numpy array.\n- What differentiates the NumPy array from a Series, is that a Series can have index labels,</br>\n  meaning it can also be indexed by a label, instead of just a number location.",
      "metadata": {}
    },
    {
      "cell_type": "markdown",
      "source": "--------------------------------------------------------------------------------------------------------------------------------------------------------",
      "metadata": {}
    },
    {
      "cell_type": "markdown",
      "source": "Data can come in any format. So, we should know how to convert data into single format, so that we can analyse the data.<br>\nIn this case, it's series.",
      "metadata": {}
    },
    {
      "cell_type": "markdown",
      "source": "#### <ins>Creating series from list</ins>",
      "metadata": {}
    },
    {
      "cell_type": "code",
      "source": "import pandas as pd\n\nmy_list = [10, 20, 30]\npd.Series(my_list)",
      "metadata": {
        "trusted": true
      },
      "outputs": [
        {
          "execution_count": 51,
          "output_type": "execute_result",
          "data": {
            "text/plain": "0    10\n1    20\n2    30\ndtype: int64"
          },
          "metadata": {}
        }
      ],
      "execution_count": 51
    },
    {
      "cell_type": "markdown",
      "source": "#### <ins>Creating series from dictionary<ins>",
      "metadata": {}
    },
    {
      "cell_type": "code",
      "source": "import pandas as pd\n\nd = {'a':10, 'b':20, 'c':30}\npd.Series(d)",
      "metadata": {
        "trusted": true
      },
      "outputs": [
        {
          "execution_count": 52,
          "output_type": "execute_result",
          "data": {
            "text/plain": "a    10\nb    20\nc    30\ndtype: int64"
          },
          "metadata": {}
        }
      ],
      "execution_count": 52
    },
    {
      "cell_type": "markdown",
      "source": "#### <ins>Creating series from numpy array<ins>",
      "metadata": {}
    },
    {
      "cell_type": "code",
      "source": "import numpy as np\nimport pandas as pd\n\nindex = ['a','b','c']\narr = np.array([10,20,30])\n\npd.Series(data=arr,index=index)",
      "metadata": {
        "trusted": true
      },
      "outputs": [
        {
          "execution_count": 53,
          "output_type": "execute_result",
          "data": {
            "text/plain": "a    10\nb    20\nc    30\ndtype: int32"
          },
          "metadata": {}
        }
      ],
      "execution_count": 53
    },
    {
      "cell_type": "markdown",
      "source": "--------------------------------------------------------------------------------------------------------------------------------------------------------",
      "metadata": {}
    },
    {
      "cell_type": "markdown",
      "source": "#### <ins>Series properties</ins>",
      "metadata": {}
    },
    {
      "cell_type": "code",
      "source": "import pandas as pd\n\nmy_list = [10, 20, 30]\nseries = pd.Series(my_list)",
      "metadata": {
        "trusted": true
      },
      "outputs": [],
      "execution_count": 54
    },
    {
      "cell_type": "markdown",
      "source": "##### index",
      "metadata": {}
    },
    {
      "cell_type": "code",
      "source": "series.index",
      "metadata": {
        "trusted": true
      },
      "outputs": [
        {
          "execution_count": 55,
          "output_type": "execute_result",
          "data": {
            "text/plain": "RangeIndex(start=0, stop=3, step=1)"
          },
          "metadata": {}
        }
      ],
      "execution_count": 55
    },
    {
      "cell_type": "markdown",
      "source": "##### values",
      "metadata": {}
    },
    {
      "cell_type": "code",
      "source": "series.values",
      "metadata": {
        "trusted": true
      },
      "outputs": [
        {
          "execution_count": 56,
          "output_type": "execute_result",
          "data": {
            "text/plain": "array([10, 20, 30], dtype=int64)"
          },
          "metadata": {}
        }
      ],
      "execution_count": 56
    },
    {
      "cell_type": "markdown",
      "source": "--------------------------------------------------------------------------------------------------------------------------------------------------------",
      "metadata": {}
    },
    {
      "cell_type": "markdown",
      "source": "#### Using Index in Series",
      "metadata": {}
    },
    {
      "cell_type": "code",
      "source": "# Custom index\nimport pandas as pd\nser1 = pd.Series([1,2,3,4], index=['USA', 'Germany','USSR', 'Japan']) \nser2 = pd.Series([1,2,5,4], index=['USA', 'Germany','Italy', 'Japan'])   \n\n# get the value of 'USA'\nprint(ser1['USA'])",
      "metadata": {
        "trusted": true
      },
      "outputs": [
        {
          "name": "stdout",
          "text": "1\n",
          "output_type": "stream"
        }
      ],
      "execution_count": 57
    }
  ]
}