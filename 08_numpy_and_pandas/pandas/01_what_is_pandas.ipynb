{
  "metadata": {
    "kernelspec": {
      "name": "python",
      "display_name": "Python (Pyodide)",
      "language": "python"
    },
    "language_info": {
      "codemirror_mode": {
        "name": "python",
        "version": 3
      },
      "file_extension": ".py",
      "mimetype": "text/x-python",
      "name": "python",
      "nbconvert_exporter": "python",
      "pygments_lexer": "ipython3",
      "version": "3.8"
    }
  },
  "nbformat_minor": 4,
  "nbformat": 4,
  "cells": [
    {
      "cell_type": "markdown",
      "source": "#### <ins>Pandas</ins>\n![image](https://github.com/user-attachments/assets/a526d014-b50a-4584-a646-1a9a218107c9)",
      "metadata": {}
    },
    {
      "cell_type": "markdown",
      "source": "#### <ins>Data structures in pandas</ins>\nIn data engineering, will be mostly using DataFrame / Series, but not Panel & Panel4D.\n##### 1. Series\nOne dimentional \n##### 2. DataFrame\nTwo dimentional\n##### 3. Panel\nThree dimentional\n##### 4. Panel4D\nFour dimentional",
      "metadata": {}
    }
  ]
}